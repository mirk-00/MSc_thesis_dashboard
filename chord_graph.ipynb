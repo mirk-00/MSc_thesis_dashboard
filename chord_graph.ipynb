{
 "cells": [
  {
   "cell_type": "code",
   "execution_count": 2,
   "metadata": {},
   "outputs": [],
   "source": [
    "from plotapi import Chord\n",
    "import numpy as np\n",
    "import plotly.express as px\n",
    "import pandas as pd\n",
    "\n",
    "\n",
    "Chord.set_license('mirko.forastiere@gmail.com', 'PLOTAPI-P-7c64e02f-d01c-47ff-92c2-1fd6caeae0da')"
   ]
  },
  {
   "cell_type": "code",
   "execution_count": 3,
   "metadata": {},
   "outputs": [],
   "source": [
    "q_df = pd.read_excel('https://github.com/mirk-00/thesis-dashboard/blob/master/consumption.xlsx?raw=true').rename(columns={'Prey \\ predator':'FG', 'Unnamed: 0':'id'})\n",
    "name_numberdic = {i:q_df['Group'][i-1] for i in q_df['id']}\n",
    "q_df = q_df.set_index('id').drop(columns=['FG','Group'])"
   ]
  },
  {
   "cell_type": "code",
   "execution_count": 4,
   "metadata": {},
   "outputs": [],
   "source": [
    "df = q_df.rename(columns=name_numberdic, index=name_numberdic)\n",
    "long_df = df.stack().reset_index()\n",
    "cross_df = pd.crosstab(long_df['id'], long_df['level_1'], values=long_df[0], aggfunc='sum').fillna(0)\n",
    "cross_df = cross_df / cross_df.max().max()\n",
    "cross_df = np.round(cross_df, 3)\n",
    "cross_df['Producers'] = [0 for i in range(12)]\n",
    "cross_df = cross_df[cross_df.index.values]\n",
    "dropping = ['Birds','Chondrichthyes','Marine Mammals','Turtles']\n",
    "cross_df = cross_df.drop(columns=dropping, index=dropping)\n",
    "mtx = cross_df.values.tolist()\n",
    "names = cross_df.index.values.tolist()\n"
   ]
  },
  {
   "cell_type": "code",
   "execution_count": 5,
   "metadata": {},
   "outputs": [],
   "source": [
    "\n",
    "Chord(mtx, names, \n",
    "    directed=True,\n",
    "    padding=0.1,\n",
    "    inner_radius_scale=0.4, \n",
    "    wrap_labels=True,\n",
    "    popup_enabled=False,\n",
    "    symmetric=False,\n",
    "    colors='green_blue'\n",
    "    \n",
    "    ).to_html('chord.html')\n"
   ]
  }
 ],
 "metadata": {
  "kernelspec": {
   "display_name": "Python 3.9.12 ('venv')",
   "language": "python",
   "name": "python3"
  },
  "language_info": {
   "codemirror_mode": {
    "name": "ipython",
    "version": 3
   },
   "file_extension": ".py",
   "mimetype": "text/x-python",
   "name": "python",
   "nbconvert_exporter": "python",
   "pygments_lexer": "ipython3",
   "version": "3.9.12"
  },
  "vscode": {
   "interpreter": {
    "hash": "fc132d53eb96378978b6c051f4972622c35811bda58857cc885d58f2cfd8b0db"
   }
  }
 },
 "nbformat": 4,
 "nbformat_minor": 2
}
